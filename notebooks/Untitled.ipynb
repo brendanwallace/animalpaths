{
 "cells": [
  {
   "cell_type": "code",
   "execution_count": 1,
   "id": "0cc82151-ceb8-4747-95fb-a373d3d9135f",
   "metadata": {},
   "outputs": [],
   "source": [
    "using StatsBase"
   ]
  },
  {
   "cell_type": "code",
   "execution_count": 16,
   "id": "4e3fef17-9a64-44cb-b097-0dc1bfd1ae5d",
   "metadata": {},
   "outputs": [
    {
     "data": {
      "text/plain": [
       "histWeightedHeadings (generic function with 2 methods)"
      ]
     },
     "execution_count": 16,
     "metadata": {},
     "output_type": "execute_result"
    }
   ],
   "source": [
    "\n",
    "\n",
    "function histWeightedHeadings(headings :: Array{Tuple{Float64,Float64}}, nbins=1000) :: Array{Tuple{Float64, Float64}}\n",
    "\n",
    "    angles = [h[1] for h in headings]\n",
    "    weights = [h[2] for h in headings]\n",
    "\n",
    "    weightedHeadings = []\n",
    "    h = fit(Histogram, angles, weights)\n",
    "    for i in 1:length(h.weights)\n",
    "        push!(weightedHeadings, (h.edges[i], h.weights[i]))\n",
    "    end\n",
    "    return weightedHeadings\n",
    "end\n",
    "\n"
   ]
  },
  {
   "cell_type": "code",
   "execution_count": 46,
   "id": "52064502-5193-421a-a664-52f3b56ba23a",
   "metadata": {},
   "outputs": [
    {
     "data": {
      "text/plain": [
       "10000-element Vector{Float64}:\n",
       " 0.697387732402899\n",
       " 0.0060345298796662394\n",
       " 0.64074672702073\n",
       " 0.9174820331399929\n",
       " 0.6552404022174818\n",
       " 0.5446516250824133\n",
       " 0.2842578240345184\n",
       " 0.690695002526746\n",
       " 0.31782577238987875\n",
       " 0.7503006680401592\n",
       " 0.3533034889315184\n",
       " 0.6702298448043812\n",
       " 0.5304416048713259\n",
       " ⋮\n",
       " 0.4792396600610841\n",
       " 0.4676511505983675\n",
       " 0.0328303061718469\n",
       " 0.5473614138798601\n",
       " 0.9141927721842871\n",
       " 0.19774072230492834\n",
       " 0.026251090619690665\n",
       " 0.6699362615043445\n",
       " 0.21420021903733533\n",
       " 0.5654429799368288\n",
       " 0.9067796927608267\n",
       " 0.24368455585546622"
      ]
     },
     "execution_count": 46,
     "metadata": {},
     "output_type": "execute_result"
    }
   ],
   "source": []
  },
  {
   "cell_type": "code",
   "execution_count": 51,
   "id": "e01990f5-5473-44d4-bc68-a083c0e710ae",
   "metadata": {},
   "outputs": [
    {
     "data": {
      "text/plain": [
       "1000-element Vector{Any}:\n",
       " (0.0, 0.15880283281576613)\n",
       " (0.001, 0.6204641788085362)\n",
       " (0.002, 0.9707241173218611)\n",
       " (0.003, 0.9172208959100644)\n",
       " (0.004, 0.3066361917453012)\n",
       " (0.005, 0.5731977885190297)\n",
       " (0.006, 0.0)\n",
       " (0.007, 0.0)\n",
       " (0.008, 0.4679501545057396)\n",
       " (0.009000000000000001, 0.9293787213966154)\n",
       " (0.01, 0.6442209466671613)\n",
       " (0.011, 1.7801601326782137)\n",
       " (0.012, 0.39762243051711044)\n",
       " ⋮\n",
       " (0.988, 1.8426582796498099)\n",
       " (0.989, 0.9767418832687247)\n",
       " (0.99, 1.9514135850318328)\n",
       " (0.991, 0.18159930835092664)\n",
       " (0.992, 0.7784436398436803)\n",
       " (0.993, 0.0)\n",
       " (0.994, 0.4049629219802089)\n",
       " (0.995, 0.826770193567682)\n",
       " (0.996, 0.0)\n",
       " (0.997, 0.12853768582570013)\n",
       " (0.998, 0.16608683490316167)\n",
       " (0.999, 0.299849027696512)"
      ]
     },
     "execution_count": 51,
     "metadata": {},
     "output_type": "execute_result"
    }
   ],
   "source": [
    "h = fit(Histogram, rand(1000), aweights(rand(1000)), nbins=1024)\n",
    "weightedHeadings = []\n",
    "for i in 1:length(h.weights)\n",
    "    push!(weightedHeadings, (h.edges[1][i], h.weights[i]))\n",
    "end\n",
    "weightedHeadings"
   ]
  },
  {
   "cell_type": "code",
   "execution_count": 18,
   "id": "9934d3d1-e527-4040-839e-19e810c9aa9a",
   "metadata": {},
   "outputs": [
    {
     "data": {
      "text/plain": [
       "2-element Vector{Tuple{Float64, Float64}}:\n",
       " (0.0, 10.0)\n",
       " (1.0, 10.0)"
      ]
     },
     "execution_count": 18,
     "metadata": {},
     "output_type": "execute_result"
    }
   ],
   "source": [
    "sample = [(0.0, 10.0), (1.0, 10.0)]"
   ]
  },
  {
   "cell_type": "code",
   "execution_count": 19,
   "id": "9b2c4d13-a71e-46e6-9dde-b2062b71d3ce",
   "metadata": {},
   "outputs": [
    {
     "ename": "LoadError",
     "evalue": "MethodError: \u001b[0mCannot `convert` an object of type \u001b[92mVector{Float64}\u001b[39m\u001b[0m to an object of type \u001b[91mFloat64\u001b[39m\nThe function `convert` exists, but no method is defined for this combination of argument types.\n\n\u001b[0mClosest candidates are:\n\u001b[0m  convert(::Type{T}, \u001b[91m::T\u001b[39m) where T<:Number\n\u001b[0m\u001b[90m   @\u001b[39m \u001b[90mBase\u001b[39m \u001b[90m\u001b[4mnumber.jl:6\u001b[24m\u001b[39m\n\u001b[0m  convert(::Type{T}, \u001b[91m::T\u001b[39m) where T\n\u001b[0m\u001b[90m   @\u001b[39m \u001b[90mBase\u001b[39m \u001b[90m\u001b[4mBase.jl:126\u001b[24m\u001b[39m\n\u001b[0m  convert(::Type{T}, \u001b[91m::AbstractChar\u001b[39m) where T<:Number\n\u001b[0m\u001b[90m   @\u001b[39m \u001b[90mBase\u001b[39m \u001b[90m\u001b[4mchar.jl:185\u001b[24m\u001b[39m\n\u001b[0m  ...\n",
     "output_type": "error",
     "traceback": [
      "MethodError: \u001b[0mCannot `convert` an object of type \u001b[92mVector{Float64}\u001b[39m\u001b[0m to an object of type \u001b[91mFloat64\u001b[39m\nThe function `convert` exists, but no method is defined for this combination of argument types.\n\n\u001b[0mClosest candidates are:\n\u001b[0m  convert(::Type{T}, \u001b[91m::T\u001b[39m) where T<:Number\n\u001b[0m\u001b[90m   @\u001b[39m \u001b[90mBase\u001b[39m \u001b[90m\u001b[4mnumber.jl:6\u001b[24m\u001b[39m\n\u001b[0m  convert(::Type{T}, \u001b[91m::T\u001b[39m) where T\n\u001b[0m\u001b[90m   @\u001b[39m \u001b[90mBase\u001b[39m \u001b[90m\u001b[4mBase.jl:126\u001b[24m\u001b[39m\n\u001b[0m  convert(::Type{T}, \u001b[91m::AbstractChar\u001b[39m) where T<:Number\n\u001b[0m\u001b[90m   @\u001b[39m \u001b[90mBase\u001b[39m \u001b[90m\u001b[4mchar.jl:185\u001b[24m\u001b[39m\n\u001b[0m  ...\n",
      "",
      "Stacktrace:",
      "  [1] \u001b[0m\u001b[1mcvt1\u001b[22m",
      "\u001b[90m    @\u001b[39m \u001b[90m./\u001b[39m\u001b[90m\u001b[4messentials.jl:612\u001b[24m\u001b[39m\u001b[90m [inlined]\u001b[39m",
      "  [2] \u001b[0m\u001b[1mntuple\u001b[22m",
      "\u001b[90m    @\u001b[39m \u001b[90m./\u001b[39m\u001b[90m\u001b[4mntuple.jl:49\u001b[24m\u001b[39m\u001b[90m [inlined]\u001b[39m",
      "  [3] \u001b[0m\u001b[1mconvert\u001b[22m\u001b[0m\u001b[1m(\u001b[22m::\u001b[0mType\u001b[90m{Tuple{Float64, Float64}}\u001b[39m, \u001b[90mx\u001b[39m::\u001b[0mTuple\u001b[90m{Vector{Float64}, Int64}\u001b[39m\u001b[0m\u001b[1m)\u001b[22m",
      "\u001b[90m    @\u001b[39m \u001b[90mBase\u001b[39m \u001b[90m./\u001b[39m\u001b[90m\u001b[4messentials.jl:614\u001b[24m\u001b[39m",
      "  [4] \u001b[0m\u001b[1msetindex!\u001b[22m\u001b[0m\u001b[1m(\u001b[22m\u001b[90mA\u001b[39m::\u001b[0mMemory\u001b[90m{Tuple{Float64, Float64}}\u001b[39m, \u001b[90mx\u001b[39m::\u001b[0mTuple\u001b[90m{Vector{Float64}, Int64}\u001b[39m, \u001b[90mi1\u001b[39m::\u001b[0mInt64\u001b[0m\u001b[1m)\u001b[22m",
      "\u001b[90m    @\u001b[39m \u001b[90mBase\u001b[39m \u001b[90m./\u001b[39m\u001b[90m\u001b[4mgenericmemory.jl:243\u001b[24m\u001b[39m",
      "  [5] \u001b[0m\u001b[1munsafe_copyto!\u001b[22m\u001b[0m\u001b[1m(\u001b[22m\u001b[90mdest\u001b[39m::\u001b[0mMemory\u001b[90m{Tuple{Float64, Float64}}\u001b[39m, \u001b[90mdoffs\u001b[39m::\u001b[0mInt64, \u001b[90msrc\u001b[39m::\u001b[0mMemory\u001b[90m{Any}\u001b[39m, \u001b[90msoffs\u001b[39m::\u001b[0mInt64, \u001b[90mn\u001b[39m::\u001b[0mInt64\u001b[0m\u001b[1m)\u001b[22m",
      "\u001b[90m    @\u001b[39m \u001b[90mBase\u001b[39m \u001b[90m./\u001b[39m\u001b[90m\u001b[4mgenericmemory.jl:153\u001b[24m\u001b[39m",
      "  [6] \u001b[0m\u001b[1munsafe_copyto!\u001b[22m",
      "\u001b[90m    @\u001b[39m \u001b[90m./\u001b[39m\u001b[90m\u001b[4mgenericmemory.jl:133\u001b[24m\u001b[39m\u001b[90m [inlined]\u001b[39m",
      "  [7] \u001b[0m\u001b[1m_copyto_impl!\u001b[22m",
      "\u001b[90m    @\u001b[39m \u001b[90m./\u001b[39m\u001b[90m\u001b[4marray.jl:308\u001b[24m\u001b[39m\u001b[90m [inlined]\u001b[39m",
      "  [8] \u001b[0m\u001b[1mcopyto!\u001b[22m",
      "\u001b[90m    @\u001b[39m \u001b[90m./\u001b[39m\u001b[90m\u001b[4marray.jl:294\u001b[24m\u001b[39m\u001b[90m [inlined]\u001b[39m",
      "  [9] \u001b[0m\u001b[1mcopyto!\u001b[22m",
      "\u001b[90m    @\u001b[39m \u001b[90m./\u001b[39m\u001b[90m\u001b[4marray.jl:319\u001b[24m\u001b[39m\u001b[90m [inlined]\u001b[39m",
      " [10] \u001b[0m\u001b[1mcopyto_axcheck!\u001b[22m",
      "\u001b[90m    @\u001b[39m \u001b[90m./\u001b[39m\u001b[90m\u001b[4mabstractarray.jl:1167\u001b[24m\u001b[39m\u001b[90m [inlined]\u001b[39m",
      " [11] \u001b[0m\u001b[1mArray\u001b[22m",
      "\u001b[90m    @\u001b[39m \u001b[90m./\u001b[39m\u001b[90m\u001b[4marray.jl:626\u001b[24m\u001b[39m\u001b[90m [inlined]\u001b[39m",
      " [12] \u001b[0m\u001b[1mArray\u001b[22m",
      "\u001b[90m    @\u001b[39m \u001b[90m./\u001b[39m\u001b[90m\u001b[4mboot.jl:606\u001b[24m\u001b[39m\u001b[90m [inlined]\u001b[39m",
      " [13] \u001b[0m\u001b[1mconvert\u001b[22m",
      "\u001b[90m    @\u001b[39m \u001b[90m./\u001b[39m\u001b[90m\u001b[4marray.jl:618\u001b[24m\u001b[39m\u001b[90m [inlined]\u001b[39m",
      " [14] \u001b[0m\u001b[1mhistWeightedHeadings\u001b[22m\u001b[0m\u001b[1m(\u001b[22m\u001b[90mheadings\u001b[39m::\u001b[0mVector\u001b[90m{Tuple{Float64, Float64}}\u001b[39m, \u001b[90mnbins\u001b[39m::\u001b[0mInt64\u001b[0m\u001b[1m)\u001b[22m",
      "\u001b[90m    @\u001b[39m \u001b[36mMain\u001b[39m \u001b[90m./\u001b[39m\u001b[90m\u001b[4mIn[16]:13\u001b[24m\u001b[39m",
      " [15] \u001b[0m\u001b[1mhistWeightedHeadings\u001b[22m\u001b[0m\u001b[1m(\u001b[22m\u001b[90mheadings\u001b[39m::\u001b[0mVector\u001b[90m{Tuple{Float64, Float64}}\u001b[39m\u001b[0m\u001b[1m)\u001b[22m",
      "\u001b[90m    @\u001b[39m \u001b[36mMain\u001b[39m \u001b[90m./\u001b[39m\u001b[90m\u001b[4mIn[16]:5\u001b[24m\u001b[39m",
      " [16] top-level scope",
      "\u001b[90m    @\u001b[39m \u001b[90m\u001b[4mIn[19]:1\u001b[24m\u001b[39m"
     ]
    }
   ],
   "source": [
    "histWeightedHeadings(sample)"
   ]
  },
  {
   "cell_type": "code",
   "execution_count": null,
   "id": "f5b999d2-6066-48f1-9f59-26a0b558a5e3",
   "metadata": {},
   "outputs": [],
   "source": []
  }
 ],
 "metadata": {
  "kernelspec": {
   "display_name": "Julia 1.11.6",
   "language": "julia",
   "name": "julia-1.11"
  },
  "language_info": {
   "file_extension": ".jl",
   "mimetype": "application/julia",
   "name": "julia",
   "version": "1.11.6"
  }
 },
 "nbformat": 4,
 "nbformat_minor": 5
}
