{
 "cells": [
  {
   "cell_type": "code",
   "execution_count": null,
   "id": "c0ef827a-18e2-4011-a1de-dbeac8684ae5",
   "metadata": {},
   "outputs": [],
   "source": []
  }
 ],
 "metadata": {
  "kernelspec": {
   "display_name": "",
   "name": ""
  },
  "language_info": {
   "name": ""
  }
 },
 "nbformat": 4,
 "nbformat_minor": 5
}
