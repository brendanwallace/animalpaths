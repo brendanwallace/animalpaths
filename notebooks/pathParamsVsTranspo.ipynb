{
 "cells": [
  {
   "cell_type": "code",
   "execution_count": 1,
   "id": "b8cb6033-c1f0-42f1-ba94-0d2daa15f12b",
   "metadata": {},
   "outputs": [],
   "source": [
    "using Paths\n",
    "using Plots\n",
    "using DataFrames\n",
    "using CSV"
   ]
  },
  {
   "cell_type": "code",
   "execution_count": 2,
   "id": "8a2d8e4e-774f-49af-8a75-c97fa18c40e8",
   "metadata": {},
   "outputs": [
    {
     "data": {
      "text/plain": [
       "IOStream(<file ../data/randomFixed|100x100|maxCost=2.0.csv>)"
      ]
     },
     "execution_count": 2,
     "metadata": {},
     "output_type": "execute_result"
    }
   ],
   "source": [
    "CSV.open(\"../data/randomFixed|100x100|maxCost=2.0.csv\")"
   ]
  },
  {
   "cell_type": "code",
   "execution_count": null,
   "id": "9486c97d-18c7-4e2a-92f3-dd20f95d36c8",
   "metadata": {},
   "outputs": [
    {
     "name": "stdout",
     "output_type": "stream",
     "text": [
      "0.04 0.004 38/200 44/1000"
     ]
    }
   ],
   "source": [
    "X=100\n",
    "Y=100\n",
    "maxCost = 2.0\n",
    "numWalkers = 10\n",
    "numLocations = 10\n",
    "scenario = Paths.RANDOM_FIXED\n",
    "logisticPatchImprovement=false\n",
    "\n",
    "PIS = [0.04] #[0.01, 0.02, 0.04, 0.08] \n",
    "PRS = [0.0004] # [0.001, 0.002, 0.004, 0.008]\n",
    "\n",
    "filetext = \"data/0.04_$(scenario.description)|$(X)x$(Y)|maxCost=$(maxCost).csv\"\n",
    "@info \"saving to $(filetext)\"\n",
    "\n",
    "F = 200\n",
    "upf = 100\n",
    "df = DataFrame()\n",
    "\n",
    "for pI ∈ PIS\n",
    "    for pR ∈ PRS\n",
    "        sim::Simulation = Paths.MakeSimulation(\n",
    "            X=X, Y=Y, numWalkers=numWalkers, numLocations=numLocations,\n",
    "            patchImprovement=pI, patchRecovery=pR,\n",
    "            scenario=scenario, maxCost=maxCost,\n",
    "            logisticPatchImprovement=logisticPatchImprovement)\n",
    "\n",
    "        averageTravelCosts = [averageTravelCost(sim)]\n",
    "        totalImprovements = [totalImprovement(sim)]\n",
    "        steps = [0]\n",
    "\n",
    "        for f ∈ 1:F\n",
    "            for u ∈ 1:upf\n",
    "                print(\"\\r$(pI) $(pR) $(f)/$(F) $(u)/$(upf)\")\n",
    "                update!(sim)\n",
    "            end\n",
    "            append!(averageTravelCosts, averageTravelCost(sim))\n",
    "            append!(totalImprovements, totalImprovement(sim))\n",
    "            append!(steps, f * upf)\n",
    "        end\n",
    "        df = vcat(df, DataFrame(travelCosts = averageTravelCosts, improvements=totalImprovements, steps=steps, pI=pI, pR=pR))\n",
    "    end\n",
    "end\n",
    "CSV.write(filetext, df)"
   ]
  }
 ],
 "metadata": {
  "kernelspec": {
   "display_name": "Julia 1.10.4",
   "language": "julia",
   "name": "julia-1.10"
  },
  "language_info": {
   "file_extension": ".jl",
   "mimetype": "application/julia",
   "name": "julia",
   "version": "1.10.4"
  }
 },
 "nbformat": 4,
 "nbformat_minor": 5
}
