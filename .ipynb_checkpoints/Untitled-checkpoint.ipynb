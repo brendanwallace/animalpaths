{
 "cells": [
  {
   "cell_type": "code",
   "execution_count": 43,
   "id": "a4dbafb3-458f-4223-9b41-6ca8240c9284",
   "metadata": {},
   "outputs": [],
   "source": [
    "using LinearAlgebra: norm"
   ]
  },
  {
   "cell_type": "code",
   "execution_count": 5,
   "id": "f910735c-254e-4d75-a5fc-067adff4ca22",
   "metadata": {},
   "outputs": [
    {
     "data": {
      "text/plain": [
       "normalize (generic function with 1 method)"
      ]
     },
     "execution_count": 5,
     "metadata": {},
     "output_type": "execute_result"
    }
   ],
   "source": [
    "# TODO - is this being used in more than just walker?\n",
    "function normalize(x)\n",
    "    n = norm(x)\n",
    "    if n > 0\n",
    "        return x ./ n\n",
    "    else\n",
    "        return x\n",
    "    end\n",
    "end\n"
   ]
  },
  {
   "cell_type": "code",
   "execution_count": 34,
   "id": "af50feea-6a22-4df7-8f2a-ef25b7849cd4",
   "metadata": {},
   "outputs": [
    {
     "data": {
      "text/plain": [
       "rotate (generic function with 2 methods)"
      ]
     },
     "execution_count": 34,
     "metadata": {},
     "output_type": "execute_result"
    }
   ],
   "source": [
    "function rotate(vector, angle)\n",
    "    rotation_matrix = [\n",
    "        cos(angle) -sin(angle);\n",
    "        sin(angle) cos(angle)]\n",
    "    rotated = rotation_matrix * [vector[1]; vector[2]]\n",
    "    return (rotated[1], rotated[2])\n",
    "end"
   ]
  },
  {
   "cell_type": "code",
   "execution_count": 35,
   "id": "759af384-a2ed-4cea-8d4b-21c4a9370682",
   "metadata": {},
   "outputs": [
    {
     "data": {
      "text/plain": [
       "(-1.0, 6.123233995736766e-16)"
      ]
     },
     "execution_count": 35,
     "metadata": {},
     "output_type": "execute_result"
    }
   ],
   "source": [
    "# x = (1.0, 0.0)\n",
    "x = rotate(x, π/2)\n",
    "x"
   ]
  },
  {
   "cell_type": "code",
   "execution_count": 53,
   "id": "415bcf46-9820-4224-a8f7-20dbb69f4cb5",
   "metadata": {},
   "outputs": [
    {
     "data": {
      "text/plain": [
       "heuristicDirection (generic function with 4 methods)"
      ]
     },
     "execution_count": 53,
     "metadata": {},
     "output_type": "execute_result"
    }
   ],
   "source": [
    "const Position = Tuple{Float64, Float64}\n",
    "const Direction = Tuple{Float64, Float64}\n",
    "\n",
    "HEURISTIC_NUM_ANGLES = 30\n",
    "WALKER_SPEED = 1.0\n",
    "\n",
    "\"\"\"\n",
    "Determines the appropriate direction to walk towards, using the \"lifeguard heuristic\".\n",
    "\"\"\"\n",
    "function heuristicDirection(\n",
    "        currentPosition :: Position,\n",
    "        targetPosition :: Position,\n",
    "        costAt :: Function,\n",
    "        maxCost :: Float64,\n",
    "        numAngles :: Int,\n",
    "        walkerSpeed :: Float64,\n",
    "    ) :: Direction\n",
    "    \n",
    "    targetDirection :: Direction = normalize(targetPosition .- currentPosition)\n",
    "\n",
    "    bestStep = currentPosition .+ (targetDirection .* walkerSpeed)\n",
    "    bestCost = costAt(bestStep) +\n",
    "               norm(targetPosition .- bestStep) * maxCost\n",
    "\n",
    "    for angleDiff ∈ -π/2:π/numAngles:π/2\n",
    "\n",
    "        stepDirection = rotate(targetDirection, angleDiff)\n",
    "        step = currentPosition .+ (stepDirection .* walkerSpeed)\n",
    "        cost = costAt(currentPosition) +\n",
    "               norm(targetPosition .- step) * maxCost\n",
    "\n",
    "        if cost < bestCost\n",
    "            bestStep = step\n",
    "            bestCost = cost\n",
    "        end\n",
    "    end\n",
    "\n",
    "    return normalize(bestStep)\n",
    "end"
   ]
  },
  {
   "cell_type": "code",
   "execution_count": 55,
   "id": "2d9e3932-5300-418a-91f1-56da36648a6d",
   "metadata": {},
   "outputs": [
    {
     "data": {
      "text/plain": [
       "(0.6, 0.8)"
      ]
     },
     "execution_count": 55,
     "metadata": {},
     "output_type": "execute_result"
    }
   ],
   "source": [
    "heuristicDirection((0.0, 0.0), (3.0, 4.0), x -> 1.0, 2.0, HEURISTIC_NUM_ANGLES, WALKER_SPEED)"
   ]
  },
  {
   "cell_type": "code",
   "execution_count": null,
   "id": "48ee1609-1d03-4fda-8d8d-4f2b3f44bf02",
   "metadata": {},
   "outputs": [],
   "source": []
  }
 ],
 "metadata": {
  "kernelspec": {
   "display_name": "Julia 1.11.5",
   "language": "julia",
   "name": "julia-1.11"
  },
  "language_info": {
   "file_extension": ".jl",
   "mimetype": "application/julia",
   "name": "julia",
   "version": "1.11.5"
  }
 },
 "nbformat": 4,
 "nbformat_minor": 5
}
