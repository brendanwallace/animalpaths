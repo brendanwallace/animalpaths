{
 "cells": [
  {
   "cell_type": "code",
   "execution_count": 1,
   "id": "b8cb6033-c1f0-42f1-ba94-0d2daa15f12b",
   "metadata": {},
   "outputs": [],
   "source": [
    "using Paths\n",
    "using Plots\n",
    "using DataFrames\n",
    "using CSV"
   ]
  },
  {
   "cell_type": "code",
   "execution_count": 2,
   "id": "8ff9085f-fbc5-4807-9903-24209175bd2e",
   "metadata": {},
   "outputs": [
    {
     "data": {
      "text/plain": [
       "totalImprovement (generic function with 1 method)"
      ]
     },
     "execution_count": 2,
     "metadata": {},
     "output_type": "execute_result"
    }
   ],
   "source": [
    "function averageTravelCost(sim :: Paths.Simulation) :: Float64\n",
    "    n = 0.0\n",
    "    totalCost = 0.0\n",
    "    for i in 1:length(sim.locations)\n",
    "        for j in i+1:length(sim.locations)\n",
    "            #println(sim.locations[i], sim.locations[j])\n",
    "            n += 1\n",
    "            _p, cost = Paths.shortestPath(sim.locations[i].position, sim.locations[j].position, Paths.costs(sim.world))\n",
    "            totalCost += cost\n",
    "        end\n",
    "    end\n",
    "    return totalCost / n\n",
    "end\n",
    "\n",
    "function totalImprovement(sim :: Paths.Simulation) :: Float64\n",
    "    return sum(sim.world.patches)\n",
    "end"
   ]
  },
  {
   "cell_type": "code",
   "execution_count": null,
   "id": "9486c97d-18c7-4e2a-92f3-dd20f95d36c8",
   "metadata": {},
   "outputs": [
    {
     "name": "stderr",
     "output_type": "stream",
     "text": [
      "\u001b[36m\u001b[1m[ \u001b[22m\u001b[39m\u001b[36m\u001b[1mInfo: \u001b[22m\u001b[39msaving to data/randomFixed|100x100|maxCost=2.0.csv\n"
     ]
    },
    {
     "name": "stdout",
     "output_type": "stream",
     "text": [
      "0.01 0.002 1/2 2/200"
     ]
    }
   ],
   "source": [
    "X=100\n",
    "Y=100\n",
    "maxCost = 2.0\n",
    "numWalkers = 10\n",
    "numLocations = 10\n",
    "scenario = Paths.RANDOM_FIXED\n",
    "logisticPatchImprovement=false\n",
    "\n",
    "PIS = [0.01, 0.02, 0.04, 0.08]\n",
    "PRS = [0.001, 0.002, 0.004, 0.008]\n",
    "\n",
    "filetext = \"data/$(scenario.description)|$(X)x$(Y)|maxCost=$(maxCost).csv\"\n",
    "@info \"saving to $(filetext)\"\n",
    "\n",
    "F = 2\n",
    "upf = 20\n",
    "df = DataFrame()\n",
    "\n",
    "for pI ∈ PIS\n",
    "    for pR ∈ PRS\n",
    "        sim::Simulation = Paths.MakeSimulation(\n",
    "            X=X, Y=Y, numWalkers=numWalkers, numLocations=numLocations,\n",
    "            patchImprovement=pI, patchRecovery=pR,\n",
    "            scenario=scenario, maxCost=maxCost,\n",
    "            logisticPatchImprovement=logisticPatchImprovement)\n",
    "\n",
    "        averageTravelCosts = [averageTravelCost(sim)]\n",
    "        totalImprovements = [totalImprovement(sim)]\n",
    "        steps = [0]\n",
    "\n",
    "        for f ∈ 1:F\n",
    "            for u ∈ 1:upf\n",
    "                print(\"\\r$(pI) $(pR) $(f)/$(F) $(u)/$(upf)\")\n",
    "                update!(sim)\n",
    "            end\n",
    "            append!(averageTravelCosts, averageTravelCost(sim))\n",
    "            append!(totalImprovements, totalImprovement(sim))\n",
    "            append!(steps, f * upf)\n",
    "        end\n",
    "        df = vcat(df, DataFrame(travelCosts = averageTravelCosts, improvements=totalImprovements, steps=steps, pI=pI, pR=pR))\n",
    "    end\n",
    "end"
   ]
  },
  {
   "cell_type": "code",
   "execution_count": 30,
   "id": "428f614e-a7f2-4dc1-9f5f-2d3757c58d62",
   "metadata": {},
   "outputs": [
    {
     "data": {
      "text/plain": [
       "\"df.csv\""
      ]
     },
     "execution_count": 30,
     "metadata": {},
     "output_type": "execute_result"
    }
   ],
   "source": [
    "CSV.write(filetext, df)"
   ]
  },
  {
   "cell_type": "code",
   "execution_count": 34,
   "id": "63b0cd15-8183-4dfb-b280-4b80827e9bdb",
   "metadata": {},
   "outputs": [
    {
     "data": {
      "text/html": [
       "<div><div style = \"float: left;\"><span>3×5 DataFrame</span></div><div style = \"clear: both;\"></div></div><div class = \"data-frame\" style = \"overflow-x: scroll;\"><table class = \"data-frame\" style = \"margin-bottom: 6px;\"><thead><tr class = \"header\"><th class = \"rowNumber\" style = \"font-weight: bold; text-align: right;\">Row</th><th style = \"text-align: left;\">travelCost</th><th style = \"text-align: left;\">improvement</th><th style = \"text-align: left;\">t</th><th style = \"text-align: left;\">pR</th><th style = \"text-align: left;\">pI</th></tr><tr class = \"subheader headerLastRow\"><th class = \"rowNumber\" style = \"font-weight: bold; text-align: right;\"></th><th title = \"Float64\" style = \"text-align: left;\">Float64</th><th title = \"Float64\" style = \"text-align: left;\">Float64</th><th title = \"Int64\" style = \"text-align: left;\">Int64</th><th title = \"Float64\" style = \"text-align: left;\">Float64</th><th title = \"Float64\" style = \"text-align: left;\">Float64</th></tr></thead><tbody><tr><td class = \"rowNumber\" style = \"font-weight: bold; text-align: right;\">1</td><td style = \"text-align: right;\">107.833</td><td style = \"text-align: right;\">0.0</td><td style = \"text-align: right;\">0</td><td style = \"text-align: right;\">0.222</td><td style = \"text-align: right;\">0.22</td></tr><tr><td class = \"rowNumber\" style = \"font-weight: bold; text-align: right;\">2</td><td style = \"text-align: right;\">107.707</td><td style = \"text-align: right;\">0.371663</td><td style = \"text-align: right;\">20</td><td style = \"text-align: right;\">0.222</td><td style = \"text-align: right;\">0.22</td></tr><tr><td class = \"rowNumber\" style = \"font-weight: bold; text-align: right;\">3</td><td style = \"text-align: right;\">107.726</td><td style = \"text-align: right;\">0.526548</td><td style = \"text-align: right;\">40</td><td style = \"text-align: right;\">0.222</td><td style = \"text-align: right;\">0.22</td></tr></tbody></table></div>"
      ],
      "text/latex": [
       "\\begin{tabular}{r|ccccc}\n",
       "\t& travelCost & improvement & t & pR & pI\\\\\n",
       "\t\\hline\n",
       "\t& Float64 & Float64 & Int64 & Float64 & Float64\\\\\n",
       "\t\\hline\n",
       "\t1 & 107.833 & 0.0 & 0 & 0.222 & 0.22 \\\\\n",
       "\t2 & 107.707 & 0.371663 & 20 & 0.222 & 0.22 \\\\\n",
       "\t3 & 107.726 & 0.526548 & 40 & 0.222 & 0.22 \\\\\n",
       "\\end{tabular}\n"
      ],
      "text/plain": [
       "\u001b[1m3×5 DataFrame\u001b[0m\n",
       "\u001b[1m Row \u001b[0m│\u001b[1m travelCost \u001b[0m\u001b[1m improvement \u001b[0m\u001b[1m t     \u001b[0m\u001b[1m pR      \u001b[0m\u001b[1m pI      \u001b[0m\n",
       "     │\u001b[90m Float64    \u001b[0m\u001b[90m Float64     \u001b[0m\u001b[90m Int64 \u001b[0m\u001b[90m Float64 \u001b[0m\u001b[90m Float64 \u001b[0m\n",
       "─────┼──────────────────────────────────────────────────\n",
       "   1 │    107.833     0.0           0    0.222     0.22\n",
       "   2 │    107.707     0.371663     20    0.222     0.22\n",
       "   3 │    107.726     0.526548     40    0.222     0.22"
      ]
     },
     "execution_count": 34,
     "metadata": {},
     "output_type": "execute_result"
    }
   ],
   "source": [
    "df0 = DataFrame()\n",
    "df1 = DataFrame(travelCost=averageTravelCosts, improvement=improvements, t=ts, pR=0.111, pI=0.01)\n",
    "df2 = DataFrame(travelCost=averageTravelCosts, improvement=improvements, t=ts, pR=0.222, pI=0.22)"
   ]
  },
  {
   "cell_type": "code",
   "execution_count": 36,
   "id": "b98c9cca-ab93-4f49-b7ea-3247a412f058",
   "metadata": {},
   "outputs": [
    {
     "data": {
      "text/html": [
       "<div><div style = \"float: left;\"><span>6×5 DataFrame</span></div><div style = \"clear: both;\"></div></div><div class = \"data-frame\" style = \"overflow-x: scroll;\"><table class = \"data-frame\" style = \"margin-bottom: 6px;\"><thead><tr class = \"header\"><th class = \"rowNumber\" style = \"font-weight: bold; text-align: right;\">Row</th><th style = \"text-align: left;\">travelCost</th><th style = \"text-align: left;\">improvement</th><th style = \"text-align: left;\">t</th><th style = \"text-align: left;\">pR</th><th style = \"text-align: left;\">pI</th></tr><tr class = \"subheader headerLastRow\"><th class = \"rowNumber\" style = \"font-weight: bold; text-align: right;\"></th><th title = \"Float64\" style = \"text-align: left;\">Float64</th><th title = \"Float64\" style = \"text-align: left;\">Float64</th><th title = \"Int64\" style = \"text-align: left;\">Int64</th><th title = \"Float64\" style = \"text-align: left;\">Float64</th><th title = \"Float64\" style = \"text-align: left;\">Float64</th></tr></thead><tbody><tr><td class = \"rowNumber\" style = \"font-weight: bold; text-align: right;\">1</td><td style = \"text-align: right;\">107.833</td><td style = \"text-align: right;\">0.0</td><td style = \"text-align: right;\">0</td><td style = \"text-align: right;\">0.111</td><td style = \"text-align: right;\">0.01</td></tr><tr><td class = \"rowNumber\" style = \"font-weight: bold; text-align: right;\">2</td><td style = \"text-align: right;\">107.707</td><td style = \"text-align: right;\">0.371663</td><td style = \"text-align: right;\">20</td><td style = \"text-align: right;\">0.111</td><td style = \"text-align: right;\">0.01</td></tr><tr><td class = \"rowNumber\" style = \"font-weight: bold; text-align: right;\">3</td><td style = \"text-align: right;\">107.726</td><td style = \"text-align: right;\">0.526548</td><td style = \"text-align: right;\">40</td><td style = \"text-align: right;\">0.111</td><td style = \"text-align: right;\">0.01</td></tr><tr><td class = \"rowNumber\" style = \"font-weight: bold; text-align: right;\">4</td><td style = \"text-align: right;\">107.833</td><td style = \"text-align: right;\">0.0</td><td style = \"text-align: right;\">0</td><td style = \"text-align: right;\">0.222</td><td style = \"text-align: right;\">0.22</td></tr><tr><td class = \"rowNumber\" style = \"font-weight: bold; text-align: right;\">5</td><td style = \"text-align: right;\">107.707</td><td style = \"text-align: right;\">0.371663</td><td style = \"text-align: right;\">20</td><td style = \"text-align: right;\">0.222</td><td style = \"text-align: right;\">0.22</td></tr><tr><td class = \"rowNumber\" style = \"font-weight: bold; text-align: right;\">6</td><td style = \"text-align: right;\">107.726</td><td style = \"text-align: right;\">0.526548</td><td style = \"text-align: right;\">40</td><td style = \"text-align: right;\">0.222</td><td style = \"text-align: right;\">0.22</td></tr></tbody></table></div>"
      ],
      "text/latex": [
       "\\begin{tabular}{r|ccccc}\n",
       "\t& travelCost & improvement & t & pR & pI\\\\\n",
       "\t\\hline\n",
       "\t& Float64 & Float64 & Int64 & Float64 & Float64\\\\\n",
       "\t\\hline\n",
       "\t1 & 107.833 & 0.0 & 0 & 0.111 & 0.01 \\\\\n",
       "\t2 & 107.707 & 0.371663 & 20 & 0.111 & 0.01 \\\\\n",
       "\t3 & 107.726 & 0.526548 & 40 & 0.111 & 0.01 \\\\\n",
       "\t4 & 107.833 & 0.0 & 0 & 0.222 & 0.22 \\\\\n",
       "\t5 & 107.707 & 0.371663 & 20 & 0.222 & 0.22 \\\\\n",
       "\t6 & 107.726 & 0.526548 & 40 & 0.222 & 0.22 \\\\\n",
       "\\end{tabular}\n"
      ],
      "text/plain": [
       "\u001b[1m6×5 DataFrame\u001b[0m\n",
       "\u001b[1m Row \u001b[0m│\u001b[1m travelCost \u001b[0m\u001b[1m improvement \u001b[0m\u001b[1m t     \u001b[0m\u001b[1m pR      \u001b[0m\u001b[1m pI      \u001b[0m\n",
       "     │\u001b[90m Float64    \u001b[0m\u001b[90m Float64     \u001b[0m\u001b[90m Int64 \u001b[0m\u001b[90m Float64 \u001b[0m\u001b[90m Float64 \u001b[0m\n",
       "─────┼──────────────────────────────────────────────────\n",
       "   1 │    107.833     0.0           0    0.111     0.01\n",
       "   2 │    107.707     0.371663     20    0.111     0.01\n",
       "   3 │    107.726     0.526548     40    0.111     0.01\n",
       "   4 │    107.833     0.0           0    0.222     0.22\n",
       "   5 │    107.707     0.371663     20    0.222     0.22\n",
       "   6 │    107.726     0.526548     40    0.222     0.22"
      ]
     },
     "execution_count": 36,
     "metadata": {},
     "output_type": "execute_result"
    }
   ],
   "source": [
    "df = vcat(df, df2)"
   ]
  },
  {
   "cell_type": "code",
   "execution_count": null,
   "id": "bae72d70-d436-4fb9-92de-88fa0169fc88",
   "metadata": {},
   "outputs": [],
   "source": []
  }
 ],
 "metadata": {
  "kernelspec": {
   "display_name": "Julia 1.10.4",
   "language": "julia",
   "name": "julia-1.10"
  },
  "language_info": {
   "file_extension": ".jl",
   "mimetype": "application/julia",
   "name": "julia",
   "version": "1.10.4"
  }
 },
 "nbformat": 4,
 "nbformat_minor": 5
}
