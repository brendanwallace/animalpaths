{
 "cells": [
  {
   "cell_type": "code",
   "execution_count": 1,
   "id": "3abb57d9-0b5c-4f7e-a7f7-c439f1292c97",
   "metadata": {},
   "outputs": [
    {
     "name": "stderr",
     "output_type": "stream",
     "text": [
      "\u001b[32m\u001b[1mPrecompiling\u001b[22m\u001b[39m Paths\n",
      "\u001b[32m  ✓ \u001b[39mPaths\n",
      "  1 dependency successfully precompiled in 2 seconds. 168 already precompiled.\n"
     ]
    }
   ],
   "source": [
    "using Paths\n",
    "using Test"
   ]
  },
  {
   "cell_type": "code",
   "execution_count": 2,
   "id": "28fbe939-58c4-4f83-8203-da14bb3194d7",
   "metadata": {},
   "outputs": [
    {
     "name": "stderr",
     "output_type": "stream",
     "text": [
      "\u001b[36m\u001b[1m[ \u001b[22m\u001b[39m\u001b[36m\u001b[1mInfo: \u001b[22m\u001b[39mCreating simulation. 100x100, 10 walkers, 10 locations, UPF:2, Frames:1000\n",
      "\u001b[36m\u001b[1m[ \u001b[22m\u001b[39m\u001b[36m\u001b[1mInfo: \u001b[22m\u001b[39mCreating simulation. patchImprovement: 0.05, patchRecovery: 0.0005, maxCost: 2.0\n"
     ]
    },
    {
     "name": "stdout",
     "output_type": "stream",
     "text": [
      "1000/1000"
     ]
    },
    {
     "data": {
      "text/plain": [
       "\"profile.pb.gz\""
      ]
     },
     "execution_count": 2,
     "metadata": {},
     "output_type": "execute_result"
    },
    {
     "name": "stderr",
     "output_type": "stream",
     "text": [
      "Main binary filename not available.\n",
      "Serving web UI on http://localhost:58699\n"
     ]
    }
   ],
   "source": [
    "using Profile, PProf\n",
    "\n",
    "@profile Paths.main(save=false, T=1000, X=100, Y=100)\n",
    "pprof(;webport=58699)"
   ]
  },
  {
   "cell_type": "code",
   "execution_count": 3,
   "id": "ac3bbcad-bb84-4568-ab15-2c8cb2ed1448",
   "metadata": {},
   "outputs": [
    {
     "name": "stdout",
     "output_type": "stream",
     "text": [
      "2/1000"
     ]
    },
    {
     "name": "stderr",
     "output_type": "stream",
     "text": [
      "\u001b[36m\u001b[1m[ \u001b[22m\u001b[39m\u001b[36m\u001b[1mInfo: \u001b[22m\u001b[39mCreating simulation. 100x100, 10 walkers, 10 locations, UPF:1, Frames:1000\n",
      "\u001b[36m\u001b[1m[ \u001b[22m\u001b[39m\u001b[36m\u001b[1mInfo: \u001b[22m\u001b[39mCreating simulation. patchImprovement: 0.05, patchRecovery: 0.0005, maxCost: 2.0\n"
     ]
    },
    {
     "name": "stdout",
     "output_type": "stream",
     "text": [
      "2/1000000"
     ]
    },
    {
     "name": "stderr",
     "output_type": "stream",
     "text": [
      "\u001b[36m\u001b[1m[ \u001b[22m\u001b[39m\u001b[36m\u001b[1mInfo: \u001b[22m\u001b[39mCreating simulation. 100x100, 10 walkers, 10 locations, UPF:1, Frames:1000\n",
      "\u001b[36m\u001b[1m[ \u001b[22m\u001b[39m\u001b[36m\u001b[1mInfo: \u001b[22m\u001b[39mCreating simulation. patchImprovement: 0.05, patchRecovery: 0.0005, maxCost: 2.0\n"
     ]
    },
    {
     "name": "stdout",
     "output_type": "stream",
     "text": [
      "2/1000000"
     ]
    },
    {
     "name": "stderr",
     "output_type": "stream",
     "text": [
      "\u001b[36m\u001b[1m[ \u001b[22m\u001b[39m\u001b[36m\u001b[1mInfo: \u001b[22m\u001b[39mCreating simulation. 100x100, 10 walkers, 10 locations, UPF:1, Frames:1000\n",
      "\u001b[36m\u001b[1m[ \u001b[22m\u001b[39m\u001b[36m\u001b[1mInfo: \u001b[22m\u001b[39mCreating simulation. patchImprovement: 0.05, patchRecovery: 0.0005, maxCost: 2.0\n"
     ]
    },
    {
     "name": "stdout",
     "output_type": "stream",
     "text": [
      "1000/1000  46.081 s (601220629 allocations: 21.50 GiB)\n"
     ]
    }
   ],
   "source": [
    "# Using new just-in-time graph construction\n",
    "using BenchmarkTools\n",
    "\n",
    "@btime Paths.main(save=false, T=1000, upf=1)"
   ]
  },
  {
   "cell_type": "code",
   "execution_count": 2,
   "id": "3fce5119-60e7-403e-b422-1e9445c9159b",
   "metadata": {},
   "outputs": [
    {
     "name": "stderr",
     "output_type": "stream",
     "text": [
      "\u001b[36m\u001b[1m[ \u001b[22m\u001b[39m\u001b[36m\u001b[1mInfo: \u001b[22m\u001b[39mCreating simulation. 200x200, 10 walkers, 10 locations, UPF:1, Frames:1000\n",
      "\u001b[36m\u001b[1m[ \u001b[22m\u001b[39m\u001b[36m\u001b[1mInfo: \u001b[22m\u001b[39mCreating simulation. patchImprovement: 0.05, patchRecovery: 0.0005, maxCost: 2.0\n"
     ]
    },
    {
     "name": "stdout",
     "output_type": "stream",
     "text": [
      "2/1000000"
     ]
    },
    {
     "name": "stderr",
     "output_type": "stream",
     "text": [
      "\u001b[36m\u001b[1m[ \u001b[22m\u001b[39m\u001b[36m\u001b[1mInfo: \u001b[22m\u001b[39mCreating simulation. 200x200, 10 walkers, 10 locations, UPF:1, Frames:1000\n",
      "\u001b[36m\u001b[1m[ \u001b[22m\u001b[39m\u001b[36m\u001b[1mInfo: \u001b[22m\u001b[39mCreating simulation. patchImprovement: 0.05, patchRecovery: 0.0005, maxCost: 2.0\n"
     ]
    },
    {
     "name": "stdout",
     "output_type": "stream",
     "text": [
      "2/1000000"
     ]
    },
    {
     "name": "stderr",
     "output_type": "stream",
     "text": [
      "\u001b[36m\u001b[1m[ \u001b[22m\u001b[39m\u001b[36m\u001b[1mInfo: \u001b[22m\u001b[39mCreating simulation. 200x200, 10 walkers, 10 locations, UPF:1, Frames:1000\n",
      "\u001b[36m\u001b[1m[ \u001b[22m\u001b[39m\u001b[36m\u001b[1mInfo: \u001b[22m\u001b[39mCreating simulation. patchImprovement: 0.05, patchRecovery: 0.0005, maxCost: 2.0\n"
     ]
    },
    {
     "name": "stdout",
     "output_type": "stream",
     "text": [
      "1000/1000  97.109 s (1507565137 allocations: 53.63 GiB)\n"
     ]
    }
   ],
   "source": [
    "# Using new just-in-time graph construction\n",
    "using BenchmarkTools\n",
    "\n",
    "@btime Paths.main(save=false, T=1000, upf=1, X=200, Y=200)"
   ]
  },
  {
   "cell_type": "code",
   "execution_count": 2,
   "id": "0606a59c-8cfb-4243-9d31-16a373227b37",
   "metadata": {},
   "outputs": [
    {
     "name": "stderr",
     "output_type": "stream",
     "text": [
      "\u001b[36m\u001b[1m[ \u001b[22m\u001b[39m\u001b[36m\u001b[1mInfo: \u001b[22m\u001b[39mCreating simulation. 100x100, 10 walkers, 10 locations, UPF:1, Frames:1000\n",
      "\u001b[36m\u001b[1m[ \u001b[22m\u001b[39m\u001b[36m\u001b[1mInfo: \u001b[22m\u001b[39mCreating simulation. patchImprovement: 0.05, patchRecovery: 0.0005, maxCost: 2.0\n"
     ]
    },
    {
     "name": "stdout",
     "output_type": "stream",
     "text": [
      "2/1000000"
     ]
    },
    {
     "name": "stderr",
     "output_type": "stream",
     "text": [
      "\u001b[36m\u001b[1m[ \u001b[22m\u001b[39m\u001b[36m\u001b[1mInfo: \u001b[22m\u001b[39mCreating simulation. 100x100, 10 walkers, 10 locations, UPF:1, Frames:1000\n",
      "\u001b[36m\u001b[1m[ \u001b[22m\u001b[39m\u001b[36m\u001b[1mInfo: \u001b[22m\u001b[39mCreating simulation. patchImprovement: 0.05, patchRecovery: 0.0005, maxCost: 2.0\n"
     ]
    },
    {
     "name": "stdout",
     "output_type": "stream",
     "text": [
      "2/1000000"
     ]
    },
    {
     "name": "stderr",
     "output_type": "stream",
     "text": [
      "\u001b[36m\u001b[1m[ \u001b[22m\u001b[39m\u001b[36m\u001b[1mInfo: \u001b[22m\u001b[39mCreating simulation. 100x100, 10 walkers, 10 locations, UPF:1, Frames:1000\n",
      "\u001b[36m\u001b[1m[ \u001b[22m\u001b[39m\u001b[36m\u001b[1mInfo: \u001b[22m\u001b[39mCreating simulation. patchImprovement: 0.05, patchRecovery: 0.0005, maxCost: 2.0\n"
     ]
    },
    {
     "name": "stdout",
     "output_type": "stream",
     "text": [
      "1000/1000  68.716 s (780834263 allocations: 34.90 GiB)\n"
     ]
    }
   ],
   "source": [
    "# Using original graph construction\n",
    "using BenchmarkTools\n",
    "\n",
    "@btime Paths.main(save=false, T=1000, upf=1)"
   ]
  },
  {
   "cell_type": "code",
   "execution_count": 3,
   "id": "7fd0db9d-e952-4ae5-b129-186ea848162e",
   "metadata": {},
   "outputs": [
    {
     "name": "stdout",
     "output_type": "stream",
     "text": [
      "2/1000"
     ]
    },
    {
     "name": "stderr",
     "output_type": "stream",
     "text": [
      "\u001b[36m\u001b[1m[ \u001b[22m\u001b[39m\u001b[36m\u001b[1mInfo: \u001b[22m\u001b[39mCreating simulation. 200x200, 10 walkers, 10 locations, UPF:1, Frames:1000\n",
      "\u001b[36m\u001b[1m[ \u001b[22m\u001b[39m\u001b[36m\u001b[1mInfo: \u001b[22m\u001b[39mCreating simulation. patchImprovement: 0.05, patchRecovery: 0.0005, maxCost: 2.0\n"
     ]
    },
    {
     "name": "stdout",
     "output_type": "stream",
     "text": [
      "2/1000000"
     ]
    },
    {
     "name": "stderr",
     "output_type": "stream",
     "text": [
      "\u001b[36m\u001b[1m[ \u001b[22m\u001b[39m\u001b[36m\u001b[1mInfo: \u001b[22m\u001b[39mCreating simulation. 200x200, 10 walkers, 10 locations, UPF:1, Frames:1000\n",
      "\u001b[36m\u001b[1m[ \u001b[22m\u001b[39m\u001b[36m\u001b[1mInfo: \u001b[22m\u001b[39mCreating simulation. patchImprovement: 0.05, patchRecovery: 0.0005, maxCost: 2.0\n"
     ]
    },
    {
     "name": "stdout",
     "output_type": "stream",
     "text": [
      "2/1000000"
     ]
    },
    {
     "name": "stderr",
     "output_type": "stream",
     "text": [
      "\u001b[36m\u001b[1m[ \u001b[22m\u001b[39m\u001b[36m\u001b[1mInfo: \u001b[22m\u001b[39mCreating simulation. 200x200, 10 walkers, 10 locations, UPF:1, Frames:1000\n",
      "\u001b[36m\u001b[1m[ \u001b[22m\u001b[39m\u001b[36m\u001b[1mInfo: \u001b[22m\u001b[39mCreating simulation. patchImprovement: 0.05, patchRecovery: 0.0005, maxCost: 2.0\n"
     ]
    },
    {
     "name": "stdout",
     "output_type": "stream",
     "text": [
      "1000/1000  146.309 s (1759264971 allocations: 76.68 GiB)\n"
     ]
    }
   ],
   "source": [
    "# Using original graph construction\n",
    "using BenchmarkTools\n",
    "\n",
    "@btime Paths.main(save=false, T=1000, upf=1, X=200, Y=200)"
   ]
  },
  {
   "cell_type": "code",
   "execution_count": null,
   "id": "e484e259-d536-480f-882b-024f5f602c55",
   "metadata": {},
   "outputs": [],
   "source": []
  }
 ],
 "metadata": {
  "kernelspec": {
   "display_name": "Julia 1.10.4",
   "language": "julia",
   "name": "julia-1.10"
  },
  "language_info": {
   "file_extension": ".jl",
   "mimetype": "application/julia",
   "name": "julia",
   "version": "1.10.4"
  }
 },
 "nbformat": 4,
 "nbformat_minor": 5
}
