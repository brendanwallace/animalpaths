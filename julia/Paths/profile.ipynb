{
 "cells": [
  {
   "cell_type": "code",
   "execution_count": null,
   "id": "3abb57d9-0b5c-4f7e-a7f7-c439f1292c97",
   "metadata": {},
   "outputs": [],
   "source": [
    "using Random\n",
    "using Logging\n",
    "\n",
    "using Revise\n",
    "using Plots\n",
    "using Paths"
   ]
  },
  {
   "cell_type": "code",
   "execution_count": null,
   "id": "28fbe939-58c4-4f83-8203-da14bb3194d7",
   "metadata": {},
   "outputs": [],
   "source": [
    "using Profile, PProf\n",
    "\n",
    "@profile Paths.main(save=false)\n",
    "pprof(;webport=58699)"
   ]
  }
 ],
 "metadata": {
  "kernelspec": {
   "display_name": "Julia 1.10.4",
   "language": "julia",
   "name": "julia-1.10"
  },
  "language_info": {
   "file_extension": ".jl",
   "mimetype": "application/julia",
   "name": "julia",
   "version": "1.10.4"
  }
 },
 "nbformat": 4,
 "nbformat_minor": 5
}
