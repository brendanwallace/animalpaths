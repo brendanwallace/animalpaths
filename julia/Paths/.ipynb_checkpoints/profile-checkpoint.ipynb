{
 "cells": [
  {
   "cell_type": "code",
   "execution_count": 1,
   "id": "3abb57d9-0b5c-4f7e-a7f7-c439f1292c97",
   "metadata": {},
   "outputs": [],
   "source": [
    "using Paths\n",
    "using Test"
   ]
  },
  {
   "cell_type": "code",
   "execution_count": 2,
   "id": "28fbe939-58c4-4f83-8203-da14bb3194d7",
   "metadata": {},
   "outputs": [
    {
     "name": "stderr",
     "output_type": "stream",
     "text": [
      "\u001b[36m\u001b[1m[ \u001b[22m\u001b[39m\u001b[36m\u001b[1mInfo: \u001b[22m\u001b[39mCreating simulation. 100x100, 10 walkers, 10 locations, UPF:2, Frames:1000\n",
      "\u001b[36m\u001b[1m[ \u001b[22m\u001b[39m\u001b[36m\u001b[1mInfo: \u001b[22m\u001b[39mCreating simulation. patchImprovement: 0.05, patchRecovery: 0.0005, maxCost: 2.0\n"
     ]
    },
    {
     "name": "stdout",
     "output_type": "stream",
     "text": [
      "1000/1000"
     ]
    },
    {
     "name": "stderr",
     "output_type": "stream",
     "text": [
      "\u001b[33m\u001b[1m┌ \u001b[22m\u001b[39m\u001b[33m\u001b[1mWarning: \u001b[22m\u001b[39mThe profile data buffer is full; profiling probably terminated\n",
      "\u001b[33m\u001b[1m│ \u001b[22m\u001b[39mbefore your program finished. To profile for longer runs, call\n",
      "\u001b[33m\u001b[1m│ \u001b[22m\u001b[39m`Profile.init()` with a larger buffer and/or larger delay.\n",
      "\u001b[33m\u001b[1m└ \u001b[22m\u001b[39m\u001b[90m@ Profile ~/.julia/juliaup/julia-1.10.4+0.aarch64.apple.darwin14/share/julia/stdlib/v1.10/Profile/src/Profile.jl:609\u001b[39m\n"
     ]
    },
    {
     "data": {
      "text/plain": [
       "\"profile.pb.gz\""
      ]
     },
     "execution_count": 2,
     "metadata": {},
     "output_type": "execute_result"
    },
    {
     "name": "stderr",
     "output_type": "stream",
     "text": [
      "Main binary filename not available.\n",
      "Serving web UI on http://localhost:58699\n"
     ]
    }
   ],
   "source": [
    "using Profile, PProf\n",
    "\n",
    "@profile Paths.main(save=false, T=100, X=100, Y=100)\n",
    "pprof(;webport=58699)"
   ]
  },
  {
   "cell_type": "code",
   "execution_count": null,
   "id": "ac3bbcad-bb84-4568-ab15-2c8cb2ed1448",
   "metadata": {},
   "outputs": [],
   "source": [
    "# using BenchmarkTools\n",
    "\n",
    "# @btime Paths.main(save=false, T=1000, upf=1)"
   ]
  },
  {
   "cell_type": "code",
   "execution_count": null,
   "id": "0606a59c-8cfb-4243-9d31-16a373227b37",
   "metadata": {},
   "outputs": [],
   "source": []
  }
 ],
 "metadata": {
  "kernelspec": {
   "display_name": "Julia 1.10.4",
   "language": "julia",
   "name": "julia-1.10"
  },
  "language_info": {
   "file_extension": ".jl",
   "mimetype": "application/julia",
   "name": "julia",
   "version": "1.10.4"
  }
 },
 "nbformat": 4,
 "nbformat_minor": 5
}
