{
 "cells": [
  {
   "cell_type": "code",
   "execution_count": 1,
   "id": "3abb57d9-0b5c-4f7e-a7f7-c439f1292c97",
   "metadata": {},
   "outputs": [],
   "source": [
    "using Random\n",
    "using Logging\n",
    "\n",
    "using Revise\n",
    "using Plots\n",
    "using Paths"
   ]
  },
  {
   "cell_type": "code",
   "execution_count": 2,
   "id": "28fbe939-58c4-4f83-8203-da14bb3194d7",
   "metadata": {},
   "outputs": [
    {
     "name": "stderr",
     "output_type": "stream",
     "text": [
      "\u001b[36m\u001b[1m[ \u001b[22m\u001b[39m\u001b[36m\u001b[1mInfo: \u001b[22m\u001b[39mCreating simulation. 100x100, 10 walkers, 10 locations\n"
     ]
    },
    {
     "name": "stdout",
     "output_type": "stream",
     "text": [
      "1000/1000"
     ]
    },
    {
     "name": "stderr",
     "output_type": "stream",
     "text": [
      "\u001b[36m\u001b[1m[ \u001b[22m\u001b[39m\u001b[36m\u001b[1mInfo: \u001b[22m\u001b[39mSaved animation to /Users/brendan/Documents/projects/emergent_transportation/julia/Paths/animations/T=1000|UPF=2.gif\n"
     ]
    },
    {
     "data": {
      "text/plain": [
       "\"profile.pb.gz\""
      ]
     },
     "execution_count": 2,
     "metadata": {},
     "output_type": "execute_result"
    },
    {
     "name": "stderr",
     "output_type": "stream",
     "text": [
      "Main binary filename not available.\n",
      "Serving web UI on http://localhost:58699\n"
     ]
    }
   ],
   "source": [
    "using Profile, PProf\n",
    "\n",
    "@profile Paths.main(save=false)\n",
    "pprof(;webport=58699)"
   ]
  }
 ],
 "metadata": {
  "kernelspec": {
   "display_name": "Julia 1.10.4",
   "language": "julia",
   "name": "julia-1.10"
  },
  "language_info": {
   "file_extension": ".jl",
   "mimetype": "application/julia",
   "name": "julia",
   "version": "1.10.4"
  }
 },
 "nbformat": 4,
 "nbformat_minor": 5
}
